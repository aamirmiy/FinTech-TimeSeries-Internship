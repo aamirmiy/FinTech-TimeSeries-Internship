{
  "nbformat": 4,
  "nbformat_minor": 0,
  "metadata": {
    "colab": {
      "name": "Prophet_Forecasting.ipynb",
      "provenance": [],
      "collapsed_sections": [],
      "toc_visible": true
    },
    "kernelspec": {
      "name": "python3",
      "display_name": "Python 3"
    }
  },
  "cells": [
    {
      "cell_type": "markdown",
      "metadata": {
        "id": "aehpLPCHmtOX"
      },
      "source": [
        "### **<center>Forecasting Values Using Prophet Model**"
      ]
    },
    {
      "cell_type": "code",
      "metadata": {
        "id": "ANoS6sd3m0hB"
      },
      "source": [
        "#importing necessary Libraries\n",
        "import pandas as pd\n",
        "import numpy as np\n",
        "import json\n",
        "from fbprophet.serialize import model_to_json, model_from_json"
      ],
      "execution_count": 1,
      "outputs": []
    },
    {
      "cell_type": "code",
      "metadata": {
        "id": "7i7AC0nVnBst",
        "outputId": "76bd5df5-a9c3-4492-ffb9-77b3bdd0c0a3",
        "colab": {
          "base_uri": "https://localhost:8080/"
        }
      },
      "source": [
        "#Opening the PROPHET MODEL & reading it\n",
        "\n",
        "with open('Prophet_serialized_model.json','r') as fin:\n",
        "  m=model_from_json(json.load(fin))"
      ],
      "execution_count": 4,
      "outputs": [
        {
          "output_type": "stream",
          "text": [
            "INFO:numexpr.utils:NumExpr defaulting to 2 threads.\n"
          ],
          "name": "stderr"
        }
      ]
    },
    {
      "cell_type": "code",
      "metadata": {
        "id": "fRTExsMbnfuI",
        "outputId": "284ef8b0-20f9-4313-da0d-cef6c6f4b777",
        "colab": {
          "base_uri": "https://localhost:8080/",
          "height": 402
        }
      },
      "source": [
        "#Making future DataFrame\n",
        "#Please do note that we're predicting in HOURS, so specify the \"No of Hours\" in \"Periods=\"\n",
        "#If \n",
        "#1)You want to predict for next 6 hours, write \" periods=6, freq=H\" \n",
        "#2)For next 1 day, write \"periods=24, freq=H \"\n",
        "\n",
        "\n",
        "#Here let's predict for next 1 month. So for July, 31days x 24Hours =744 periods\n",
        "future=m.make_future_dataframe(periods=744,freq='H',include_history=False)\n",
        "future"
      ],
      "execution_count": 5,
      "outputs": [
        {
          "output_type": "execute_result",
          "data": {
            "text/html": [
              "<div>\n",
              "<style scoped>\n",
              "    .dataframe tbody tr th:only-of-type {\n",
              "        vertical-align: middle;\n",
              "    }\n",
              "\n",
              "    .dataframe tbody tr th {\n",
              "        vertical-align: top;\n",
              "    }\n",
              "\n",
              "    .dataframe thead th {\n",
              "        text-align: right;\n",
              "    }\n",
              "</style>\n",
              "<table border=\"1\" class=\"dataframe\">\n",
              "  <thead>\n",
              "    <tr style=\"text-align: right;\">\n",
              "      <th></th>\n",
              "      <th>ds</th>\n",
              "    </tr>\n",
              "  </thead>\n",
              "  <tbody>\n",
              "    <tr>\n",
              "      <th>0</th>\n",
              "      <td>2018-07-01 00:00:00</td>\n",
              "    </tr>\n",
              "    <tr>\n",
              "      <th>1</th>\n",
              "      <td>2018-07-01 01:00:00</td>\n",
              "    </tr>\n",
              "    <tr>\n",
              "      <th>2</th>\n",
              "      <td>2018-07-01 02:00:00</td>\n",
              "    </tr>\n",
              "    <tr>\n",
              "      <th>3</th>\n",
              "      <td>2018-07-01 03:00:00</td>\n",
              "    </tr>\n",
              "    <tr>\n",
              "      <th>4</th>\n",
              "      <td>2018-07-01 04:00:00</td>\n",
              "    </tr>\n",
              "    <tr>\n",
              "      <th>...</th>\n",
              "      <td>...</td>\n",
              "    </tr>\n",
              "    <tr>\n",
              "      <th>739</th>\n",
              "      <td>2018-07-31 19:00:00</td>\n",
              "    </tr>\n",
              "    <tr>\n",
              "      <th>740</th>\n",
              "      <td>2018-07-31 20:00:00</td>\n",
              "    </tr>\n",
              "    <tr>\n",
              "      <th>741</th>\n",
              "      <td>2018-07-31 21:00:00</td>\n",
              "    </tr>\n",
              "    <tr>\n",
              "      <th>742</th>\n",
              "      <td>2018-07-31 22:00:00</td>\n",
              "    </tr>\n",
              "    <tr>\n",
              "      <th>743</th>\n",
              "      <td>2018-07-31 23:00:00</td>\n",
              "    </tr>\n",
              "  </tbody>\n",
              "</table>\n",
              "<p>744 rows × 1 columns</p>\n",
              "</div>"
            ],
            "text/plain": [
              "                     ds\n",
              "0   2018-07-01 00:00:00\n",
              "1   2018-07-01 01:00:00\n",
              "2   2018-07-01 02:00:00\n",
              "3   2018-07-01 03:00:00\n",
              "4   2018-07-01 04:00:00\n",
              "..                  ...\n",
              "739 2018-07-31 19:00:00\n",
              "740 2018-07-31 20:00:00\n",
              "741 2018-07-31 21:00:00\n",
              "742 2018-07-31 22:00:00\n",
              "743 2018-07-31 23:00:00\n",
              "\n",
              "[744 rows x 1 columns]"
            ]
          },
          "metadata": {
            "tags": []
          },
          "execution_count": 5
        }
      ]
    },
    {
      "cell_type": "code",
      "metadata": {
        "id": "WcOJXirXozpX",
        "outputId": "c88482eb-77bd-47fd-8e68-289d4be56537",
        "colab": {
          "base_uri": "https://localhost:8080/",
          "height": 536
        }
      },
      "source": [
        "#Forecasting the values for the dataframe i.e hours we just created\n",
        "\n",
        "forecast=m.predict(future)\n",
        "forecast[['ds','yhat','yhat_lower','yhat_upper']]"
      ],
      "execution_count": 7,
      "outputs": [
        {
          "output_type": "stream",
          "text": [
            "/usr/local/lib/python3.6/dist-packages/fbprophet/hdays.py:259: Warning:\n",
            "\n",
            "We only support Diwali and Holi holidays from 2010 to 2030\n",
            "\n",
            "/usr/local/lib/python3.6/dist-packages/fbprophet/hdays.py:259: Warning:\n",
            "\n",
            "We only support Diwali and Holi holidays from 2010 to 2030\n",
            "\n"
          ],
          "name": "stderr"
        },
        {
          "output_type": "execute_result",
          "data": {
            "text/html": [
              "<div>\n",
              "<style scoped>\n",
              "    .dataframe tbody tr th:only-of-type {\n",
              "        vertical-align: middle;\n",
              "    }\n",
              "\n",
              "    .dataframe tbody tr th {\n",
              "        vertical-align: top;\n",
              "    }\n",
              "\n",
              "    .dataframe thead th {\n",
              "        text-align: right;\n",
              "    }\n",
              "</style>\n",
              "<table border=\"1\" class=\"dataframe\">\n",
              "  <thead>\n",
              "    <tr style=\"text-align: right;\">\n",
              "      <th></th>\n",
              "      <th>ds</th>\n",
              "      <th>yhat</th>\n",
              "      <th>yhat_lower</th>\n",
              "      <th>yhat_upper</th>\n",
              "    </tr>\n",
              "  </thead>\n",
              "  <tbody>\n",
              "    <tr>\n",
              "      <th>0</th>\n",
              "      <td>2018-07-01 00:00:00</td>\n",
              "      <td>2.419609</td>\n",
              "      <td>1.396878</td>\n",
              "      <td>3.288830</td>\n",
              "    </tr>\n",
              "    <tr>\n",
              "      <th>1</th>\n",
              "      <td>2018-07-01 01:00:00</td>\n",
              "      <td>1.822461</td>\n",
              "      <td>0.929193</td>\n",
              "      <td>2.828706</td>\n",
              "    </tr>\n",
              "    <tr>\n",
              "      <th>2</th>\n",
              "      <td>2018-07-01 02:00:00</td>\n",
              "      <td>1.466253</td>\n",
              "      <td>0.523298</td>\n",
              "      <td>2.393662</td>\n",
              "    </tr>\n",
              "    <tr>\n",
              "      <th>3</th>\n",
              "      <td>2018-07-01 03:00:00</td>\n",
              "      <td>1.495886</td>\n",
              "      <td>0.607939</td>\n",
              "      <td>2.396364</td>\n",
              "    </tr>\n",
              "    <tr>\n",
              "      <th>4</th>\n",
              "      <td>2018-07-01 04:00:00</td>\n",
              "      <td>1.971784</td>\n",
              "      <td>1.007157</td>\n",
              "      <td>2.913599</td>\n",
              "    </tr>\n",
              "    <tr>\n",
              "      <th>...</th>\n",
              "      <td>...</td>\n",
              "      <td>...</td>\n",
              "      <td>...</td>\n",
              "      <td>...</td>\n",
              "    </tr>\n",
              "    <tr>\n",
              "      <th>739</th>\n",
              "      <td>2018-07-31 19:00:00</td>\n",
              "      <td>6.265207</td>\n",
              "      <td>5.366951</td>\n",
              "      <td>7.173484</td>\n",
              "    </tr>\n",
              "    <tr>\n",
              "      <th>740</th>\n",
              "      <td>2018-07-31 20:00:00</td>\n",
              "      <td>5.629273</td>\n",
              "      <td>4.667954</td>\n",
              "      <td>6.597891</td>\n",
              "    </tr>\n",
              "    <tr>\n",
              "      <th>741</th>\n",
              "      <td>2018-07-31 21:00:00</td>\n",
              "      <td>4.871610</td>\n",
              "      <td>4.036355</td>\n",
              "      <td>5.859719</td>\n",
              "    </tr>\n",
              "    <tr>\n",
              "      <th>742</th>\n",
              "      <td>2018-07-31 22:00:00</td>\n",
              "      <td>4.094135</td>\n",
              "      <td>3.153087</td>\n",
              "      <td>5.060576</td>\n",
              "    </tr>\n",
              "    <tr>\n",
              "      <th>743</th>\n",
              "      <td>2018-07-31 23:00:00</td>\n",
              "      <td>3.346353</td>\n",
              "      <td>2.386429</td>\n",
              "      <td>4.315470</td>\n",
              "    </tr>\n",
              "  </tbody>\n",
              "</table>\n",
              "<p>744 rows × 4 columns</p>\n",
              "</div>"
            ],
            "text/plain": [
              "                     ds      yhat  yhat_lower  yhat_upper\n",
              "0   2018-07-01 00:00:00  2.419609    1.396878    3.288830\n",
              "1   2018-07-01 01:00:00  1.822461    0.929193    2.828706\n",
              "2   2018-07-01 02:00:00  1.466253    0.523298    2.393662\n",
              "3   2018-07-01 03:00:00  1.495886    0.607939    2.396364\n",
              "4   2018-07-01 04:00:00  1.971784    1.007157    2.913599\n",
              "..                  ...       ...         ...         ...\n",
              "739 2018-07-31 19:00:00  6.265207    5.366951    7.173484\n",
              "740 2018-07-31 20:00:00  5.629273    4.667954    6.597891\n",
              "741 2018-07-31 21:00:00  4.871610    4.036355    5.859719\n",
              "742 2018-07-31 22:00:00  4.094135    3.153087    5.060576\n",
              "743 2018-07-31 23:00:00  3.346353    2.386429    4.315470\n",
              "\n",
              "[744 rows x 4 columns]"
            ]
          },
          "metadata": {
            "tags": []
          },
          "execution_count": 7
        }
      ]
    },
    {
      "cell_type": "code",
      "metadata": {
        "id": "WvCYRsUMo93o",
        "outputId": "9e0766e4-39db-4a94-d31c-aa47125bd12c",
        "colab": {
          "base_uri": "https://localhost:8080/",
          "height": 402
        }
      },
      "source": [
        "#The values are forecasted in LOG , so we've to convert them in the original form\n",
        "#Create a results dataframe where we'll store the DateTime and the Forecasting Values\n",
        "results=pd.DataFrame()\n",
        "results['DateTime']=forecast['ds']\n",
        "results['predicted']=np.exp(forecast['yhat'])\n",
        "results\n",
        "#And..... we're done!"
      ],
      "execution_count": 8,
      "outputs": [
        {
          "output_type": "execute_result",
          "data": {
            "text/html": [
              "<div>\n",
              "<style scoped>\n",
              "    .dataframe tbody tr th:only-of-type {\n",
              "        vertical-align: middle;\n",
              "    }\n",
              "\n",
              "    .dataframe tbody tr th {\n",
              "        vertical-align: top;\n",
              "    }\n",
              "\n",
              "    .dataframe thead th {\n",
              "        text-align: right;\n",
              "    }\n",
              "</style>\n",
              "<table border=\"1\" class=\"dataframe\">\n",
              "  <thead>\n",
              "    <tr style=\"text-align: right;\">\n",
              "      <th></th>\n",
              "      <th>DateTime</th>\n",
              "      <th>predicted</th>\n",
              "    </tr>\n",
              "  </thead>\n",
              "  <tbody>\n",
              "    <tr>\n",
              "      <th>0</th>\n",
              "      <td>2018-07-01 00:00:00</td>\n",
              "      <td>11.241468</td>\n",
              "    </tr>\n",
              "    <tr>\n",
              "      <th>1</th>\n",
              "      <td>2018-07-01 01:00:00</td>\n",
              "      <td>6.187068</td>\n",
              "    </tr>\n",
              "    <tr>\n",
              "      <th>2</th>\n",
              "      <td>2018-07-01 02:00:00</td>\n",
              "      <td>4.332970</td>\n",
              "    </tr>\n",
              "    <tr>\n",
              "      <th>3</th>\n",
              "      <td>2018-07-01 03:00:00</td>\n",
              "      <td>4.463289</td>\n",
              "    </tr>\n",
              "    <tr>\n",
              "      <th>4</th>\n",
              "      <td>2018-07-01 04:00:00</td>\n",
              "      <td>7.183477</td>\n",
              "    </tr>\n",
              "    <tr>\n",
              "      <th>...</th>\n",
              "      <td>...</td>\n",
              "      <td>...</td>\n",
              "    </tr>\n",
              "    <tr>\n",
              "      <th>739</th>\n",
              "      <td>2018-07-31 19:00:00</td>\n",
              "      <td>525.950440</td>\n",
              "    </tr>\n",
              "    <tr>\n",
              "      <th>740</th>\n",
              "      <td>2018-07-31 20:00:00</td>\n",
              "      <td>278.459684</td>\n",
              "    </tr>\n",
              "    <tr>\n",
              "      <th>741</th>\n",
              "      <td>2018-07-31 21:00:00</td>\n",
              "      <td>130.530963</td>\n",
              "    </tr>\n",
              "    <tr>\n",
              "      <th>742</th>\n",
              "      <td>2018-07-31 22:00:00</td>\n",
              "      <td>59.987401</td>\n",
              "    </tr>\n",
              "    <tr>\n",
              "      <th>743</th>\n",
              "      <td>2018-07-31 23:00:00</td>\n",
              "      <td>28.398985</td>\n",
              "    </tr>\n",
              "  </tbody>\n",
              "</table>\n",
              "<p>744 rows × 2 columns</p>\n",
              "</div>"
            ],
            "text/plain": [
              "               DateTime   predicted\n",
              "0   2018-07-01 00:00:00   11.241468\n",
              "1   2018-07-01 01:00:00    6.187068\n",
              "2   2018-07-01 02:00:00    4.332970\n",
              "3   2018-07-01 03:00:00    4.463289\n",
              "4   2018-07-01 04:00:00    7.183477\n",
              "..                  ...         ...\n",
              "739 2018-07-31 19:00:00  525.950440\n",
              "740 2018-07-31 20:00:00  278.459684\n",
              "741 2018-07-31 21:00:00  130.530963\n",
              "742 2018-07-31 22:00:00   59.987401\n",
              "743 2018-07-31 23:00:00   28.398985\n",
              "\n",
              "[744 rows x 2 columns]"
            ]
          },
          "metadata": {
            "tags": []
          },
          "execution_count": 8
        }
      ]
    },
    {
      "cell_type": "code",
      "metadata": {
        "id": "s2G-TN7epzM4"
      },
      "source": [
        ""
      ],
      "execution_count": null,
      "outputs": []
    }
  ]
}
{
  "nbformat": 4,
  "nbformat_minor": 0,
  "metadata": {
    "colab": {
      "name": "timeseries forecasting code.ipynb",
      "provenance": [],
      "collapsed_sections": [
        "_zrsDuF6b6sT",
        "fLbUpvt2cAha",
        "i2LDZV0DcEL_",
        "KYvaxBHlcLxm",
        "r6Uy5v2ocP1s",
        "Djk4Pvb0OeHN"
      ]
    },
    "kernelspec": {
      "name": "python3",
      "display_name": "Python 3"
    }
  },
  "cells": [
    {
      "cell_type": "markdown",
      "metadata": {
        "id": "_zrsDuF6b6sT"
      },
      "source": [
        "### Data preprocessing"
      ]
    },
    {
      "cell_type": "code",
      "metadata": {
        "id": "eDcj3loMbXpk"
      },
      "source": [
        "import pandas as pd\n",
        "import numpy as np\n",
        "from sklearn.preprocessing import MinMaxScaler\n",
        "import holidays"
      ],
      "execution_count": 2,
      "outputs": []
    },
    {
      "cell_type": "code",
      "metadata": {
        "id": "rTHpAOZkecf8"
      },
      "source": [
        "df=pd.read_csv('/issue.csv')\n"
      ],
      "execution_count": null,
      "outputs": []
    },
    {
      "cell_type": "code",
      "metadata": {
        "id": "-xavG3d8e-v8"
      },
      "source": [
        "def process(df):\n",
        "  df['TransactionDateTime']= pd.to_datetime(df['TransactionDateTime'],dayfirst=True)\n",
        "  df['date']=df['TransactionDateTime'].dt.date\n",
        "  df['hour']=df['TransactionDateTime'].dt.hour\n",
        "  df['volume']=df['TransactionDateTime'].dt.minute\n",
        "  df=df.drop(['TransactionDateTime'],axis=1)\n",
        "  d1=df.groupby(['date','hour']).count().reset_index()\n",
        "  d1=d1.drop(['hour'],axis=1)\n",
        "  d1=d1.set_index('date')\n",
        "  return d1"
      ],
      "execution_count": null,
      "outputs": []
    },
    {
      "cell_type": "code",
      "metadata": {
        "id": "XAZp9ARLfKeQ"
      },
      "source": [
        "univariate_df=process(df)"
      ],
      "execution_count": null,
      "outputs": []
    },
    {
      "cell_type": "markdown",
      "metadata": {
        "id": "Ie5sfKuqfgm5"
      },
      "source": [
        "**After processing the dataframe for univariate analysis looks like this**"
      ]
    },
    {
      "cell_type": "code",
      "metadata": {
        "id": "cBP2giSTfXJX",
        "outputId": "d5067c69-09a1-4cd1-80e5-d64c0159cdeb",
        "colab": {
          "base_uri": "https://localhost:8080/",
          "height": 225
        }
      },
      "source": [
        "df1=pd.read_csv('/sarvatra.csv')\n",
        "df1=df1.set_index('DateTime')\n",
        "df1.head()"
      ],
      "execution_count": 33,
      "outputs": [
        {
          "output_type": "execute_result",
          "data": {
            "text/html": [
              "<div>\n",
              "<style scoped>\n",
              "    .dataframe tbody tr th:only-of-type {\n",
              "        vertical-align: middle;\n",
              "    }\n",
              "\n",
              "    .dataframe tbody tr th {\n",
              "        vertical-align: top;\n",
              "    }\n",
              "\n",
              "    .dataframe thead th {\n",
              "        text-align: right;\n",
              "    }\n",
              "</style>\n",
              "<table border=\"1\" class=\"dataframe\">\n",
              "  <thead>\n",
              "    <tr style=\"text-align: right;\">\n",
              "      <th></th>\n",
              "      <th>volume</th>\n",
              "    </tr>\n",
              "    <tr>\n",
              "      <th>DateTime</th>\n",
              "      <th></th>\n",
              "    </tr>\n",
              "  </thead>\n",
              "  <tbody>\n",
              "    <tr>\n",
              "      <th>2017-04-01 00:00:00</th>\n",
              "      <td>10</td>\n",
              "    </tr>\n",
              "    <tr>\n",
              "      <th>2017-04-01 01:00:00</th>\n",
              "      <td>12</td>\n",
              "    </tr>\n",
              "    <tr>\n",
              "      <th>2017-04-01 02:00:00</th>\n",
              "      <td>5</td>\n",
              "    </tr>\n",
              "    <tr>\n",
              "      <th>2017-04-01 03:00:00</th>\n",
              "      <td>5</td>\n",
              "    </tr>\n",
              "    <tr>\n",
              "      <th>2017-04-01 04:00:00</th>\n",
              "      <td>17</td>\n",
              "    </tr>\n",
              "  </tbody>\n",
              "</table>\n",
              "</div>"
            ],
            "text/plain": [
              "                     volume\n",
              "DateTime                   \n",
              "2017-04-01 00:00:00      10\n",
              "2017-04-01 01:00:00      12\n",
              "2017-04-01 02:00:00       5\n",
              "2017-04-01 03:00:00       5\n",
              "2017-04-01 04:00:00      17"
            ]
          },
          "metadata": {
            "tags": []
          },
          "execution_count": 33
        }
      ]
    },
    {
      "cell_type": "code",
      "metadata": {
        "id": "YCsZb2yDgINL",
        "outputId": "c3cea851-0588-42e8-a0d7-c4dac10363af",
        "colab": {
          "base_uri": "https://localhost:8080/",
          "height": 225
        }
      },
      "source": [
        "df1.tail()"
      ],
      "execution_count": 34,
      "outputs": [
        {
          "output_type": "execute_result",
          "data": {
            "text/html": [
              "<div>\n",
              "<style scoped>\n",
              "    .dataframe tbody tr th:only-of-type {\n",
              "        vertical-align: middle;\n",
              "    }\n",
              "\n",
              "    .dataframe tbody tr th {\n",
              "        vertical-align: top;\n",
              "    }\n",
              "\n",
              "    .dataframe thead th {\n",
              "        text-align: right;\n",
              "    }\n",
              "</style>\n",
              "<table border=\"1\" class=\"dataframe\">\n",
              "  <thead>\n",
              "    <tr style=\"text-align: right;\">\n",
              "      <th></th>\n",
              "      <th>volume</th>\n",
              "    </tr>\n",
              "    <tr>\n",
              "      <th>DateTime</th>\n",
              "      <th></th>\n",
              "    </tr>\n",
              "  </thead>\n",
              "  <tbody>\n",
              "    <tr>\n",
              "      <th>2018-07-31 19:00:00</th>\n",
              "      <td>545</td>\n",
              "    </tr>\n",
              "    <tr>\n",
              "      <th>2018-07-31 20:00:00</th>\n",
              "      <td>874</td>\n",
              "    </tr>\n",
              "    <tr>\n",
              "      <th>2018-07-31 21:00:00</th>\n",
              "      <td>386</td>\n",
              "    </tr>\n",
              "    <tr>\n",
              "      <th>2018-07-31 22:00:00</th>\n",
              "      <td>223</td>\n",
              "    </tr>\n",
              "    <tr>\n",
              "      <th>2018-07-31 23:00:00</th>\n",
              "      <td>98</td>\n",
              "    </tr>\n",
              "  </tbody>\n",
              "</table>\n",
              "</div>"
            ],
            "text/plain": [
              "                     volume\n",
              "DateTime                   \n",
              "2018-07-31 19:00:00     545\n",
              "2018-07-31 20:00:00     874\n",
              "2018-07-31 21:00:00     386\n",
              "2018-07-31 22:00:00     223\n",
              "2018-07-31 23:00:00      98"
            ]
          },
          "metadata": {
            "tags": []
          },
          "execution_count": 34
        }
      ]
    },
    {
      "cell_type": "markdown",
      "metadata": {
        "id": "VE6vr1UAfv-V"
      },
      "source": [
        "**For Multivariate we will add some features engineered from the DateTime column**"
      ]
    },
    {
      "cell_type": "code",
      "metadata": {
        "id": "irHpYfihfvgo"
      },
      "source": [
        "df2=pd.DataFrame()\n",
        "df1=df1.reset_index()\n",
        "df1['DateTime']=pd.to_datetime(df1['DateTime'],dayfirst=True)\n",
        "in_holidays=holidays.India()\n",
        "df2['weekday']=df1['DateTime'].dt.weekday\n",
        "df2['volume']=df1['volume']\n",
        "df2['month']=df1['DateTime'].dt.month\n",
        "df2['hour']=df1['DateTime'].dt.hour\n",
        "df2['day']=df1['DateTime'].dt.day\n",
        "df2['is_weekend']=[1 if (val==5 or val==6) else 0 for val in df1['weekday']]\n",
        "df2['start_of_month']=df1['DateTime'].dt.is_month_start.astype(int)\n",
        "df2['end_of_month']=df1['DateTime'].dt.is_month_end.astype(int)\n",
        "df2['holidays']=[1 if str(val).split()[0] in in_holidays else 0 for val in df1['DateTime']]\n",
        "\n",
        "def daypart(hour):\n",
        "    if hour in [2,3,4,5]:\n",
        "        return \"dawn\"\n",
        "    elif hour in [6,7,8,9]:\n",
        "        return \"morning\"\n",
        "    elif hour in [10,11,12,13]:\n",
        "        return \"noon\"\n",
        "    elif hour in [14,15,16,17]:\n",
        "        return \"afternoon\"\n",
        "    elif hour in [18,19,20,21]:\n",
        "        return \"evening\"\n",
        "    else: return \"midnight\"\n",
        "# utilize it along with apply method\n",
        "raw_dayparts = df2.hour.apply(daypart)\n",
        "# one hot encoding\n",
        "dayparts = pd.get_dummies(raw_dayparts)\n",
        "# re-arrange columns for convenience\n",
        "dayparts = dayparts[['dawn','morning','noon','afternoon','evening','midnight']]\n",
        "#display data\n",
        "dayparts"
      ],
      "execution_count": null,
      "outputs": []
    },
    {
      "cell_type": "code",
      "metadata": {
        "id": "Zb7-XQK3il25"
      },
      "source": [
        "df2=pd.concat([df2,dayparts],axis=1)"
      ],
      "execution_count": null,
      "outputs": []
    },
    {
      "cell_type": "code",
      "metadata": {
        "id": "cWc5Qa0oxILy"
      },
      "source": [
        "df2=df2.set_index('DateTime')"
      ],
      "execution_count": null,
      "outputs": []
    },
    {
      "cell_type": "code",
      "metadata": {
        "id": "RRkmC3v4iwvl"
      },
      "source": [
        "df2=df2[['month','day','weekday','start_of_month','end_of_month','is_weekend','holidays','hour','dawn','morning','noon','afternoon','evening','midnight','volume']]"
      ],
      "execution_count": null,
      "outputs": []
    },
    {
      "cell_type": "markdown",
      "metadata": {
        "id": "NjQuQ2o1yWcx"
      },
      "source": [
        "**After the above steps our data will look like this**"
      ]
    },
    {
      "cell_type": "code",
      "metadata": {
        "id": "7LbeK5ZJx1C5",
        "outputId": "174beb7a-6bc0-4adc-d718-46d56a770ca1",
        "colab": {
          "base_uri": "https://localhost:8080/",
          "height": 413
        }
      },
      "source": [
        "df3=pd.read_csv('/presentationfinal.csv')\n",
        "df3=df3.set_index('DateTime')\n",
        "df3.head()"
      ],
      "execution_count": 30,
      "outputs": [
        {
          "output_type": "execute_result",
          "data": {
            "text/html": [
              "<div>\n",
              "<style scoped>\n",
              "    .dataframe tbody tr th:only-of-type {\n",
              "        vertical-align: middle;\n",
              "    }\n",
              "\n",
              "    .dataframe tbody tr th {\n",
              "        vertical-align: top;\n",
              "    }\n",
              "\n",
              "    .dataframe thead th {\n",
              "        text-align: right;\n",
              "    }\n",
              "</style>\n",
              "<table border=\"1\" class=\"dataframe\">\n",
              "  <thead>\n",
              "    <tr style=\"text-align: right;\">\n",
              "      <th></th>\n",
              "      <th>month</th>\n",
              "      <th>day</th>\n",
              "      <th>weekday</th>\n",
              "      <th>start_of_month</th>\n",
              "      <th>end_of_month</th>\n",
              "      <th>is_weekend</th>\n",
              "      <th>holidays</th>\n",
              "      <th>hour</th>\n",
              "      <th>dawn</th>\n",
              "      <th>morning</th>\n",
              "      <th>noon</th>\n",
              "      <th>afternoon</th>\n",
              "      <th>evening</th>\n",
              "      <th>midnight</th>\n",
              "      <th>volume</th>\n",
              "    </tr>\n",
              "    <tr>\n",
              "      <th>DateTime</th>\n",
              "      <th></th>\n",
              "      <th></th>\n",
              "      <th></th>\n",
              "      <th></th>\n",
              "      <th></th>\n",
              "      <th></th>\n",
              "      <th></th>\n",
              "      <th></th>\n",
              "      <th></th>\n",
              "      <th></th>\n",
              "      <th></th>\n",
              "      <th></th>\n",
              "      <th></th>\n",
              "      <th></th>\n",
              "      <th></th>\n",
              "    </tr>\n",
              "  </thead>\n",
              "  <tbody>\n",
              "    <tr>\n",
              "      <th>2017-04-01 00:00:00</th>\n",
              "      <td>4</td>\n",
              "      <td>1</td>\n",
              "      <td>5</td>\n",
              "      <td>1</td>\n",
              "      <td>0</td>\n",
              "      <td>1</td>\n",
              "      <td>0</td>\n",
              "      <td>0</td>\n",
              "      <td>0</td>\n",
              "      <td>0</td>\n",
              "      <td>0</td>\n",
              "      <td>0</td>\n",
              "      <td>0</td>\n",
              "      <td>1</td>\n",
              "      <td>10</td>\n",
              "    </tr>\n",
              "    <tr>\n",
              "      <th>2017-04-01 01:00:00</th>\n",
              "      <td>4</td>\n",
              "      <td>1</td>\n",
              "      <td>5</td>\n",
              "      <td>1</td>\n",
              "      <td>0</td>\n",
              "      <td>1</td>\n",
              "      <td>0</td>\n",
              "      <td>1</td>\n",
              "      <td>0</td>\n",
              "      <td>0</td>\n",
              "      <td>0</td>\n",
              "      <td>0</td>\n",
              "      <td>0</td>\n",
              "      <td>1</td>\n",
              "      <td>12</td>\n",
              "    </tr>\n",
              "    <tr>\n",
              "      <th>2017-04-01 02:00:00</th>\n",
              "      <td>4</td>\n",
              "      <td>1</td>\n",
              "      <td>5</td>\n",
              "      <td>1</td>\n",
              "      <td>0</td>\n",
              "      <td>1</td>\n",
              "      <td>0</td>\n",
              "      <td>2</td>\n",
              "      <td>1</td>\n",
              "      <td>0</td>\n",
              "      <td>0</td>\n",
              "      <td>0</td>\n",
              "      <td>0</td>\n",
              "      <td>0</td>\n",
              "      <td>5</td>\n",
              "    </tr>\n",
              "    <tr>\n",
              "      <th>2017-04-01 03:00:00</th>\n",
              "      <td>4</td>\n",
              "      <td>1</td>\n",
              "      <td>5</td>\n",
              "      <td>1</td>\n",
              "      <td>0</td>\n",
              "      <td>1</td>\n",
              "      <td>0</td>\n",
              "      <td>3</td>\n",
              "      <td>1</td>\n",
              "      <td>0</td>\n",
              "      <td>0</td>\n",
              "      <td>0</td>\n",
              "      <td>0</td>\n",
              "      <td>0</td>\n",
              "      <td>5</td>\n",
              "    </tr>\n",
              "    <tr>\n",
              "      <th>2017-04-01 04:00:00</th>\n",
              "      <td>4</td>\n",
              "      <td>1</td>\n",
              "      <td>5</td>\n",
              "      <td>1</td>\n",
              "      <td>0</td>\n",
              "      <td>1</td>\n",
              "      <td>0</td>\n",
              "      <td>4</td>\n",
              "      <td>1</td>\n",
              "      <td>0</td>\n",
              "      <td>0</td>\n",
              "      <td>0</td>\n",
              "      <td>0</td>\n",
              "      <td>0</td>\n",
              "      <td>17</td>\n",
              "    </tr>\n",
              "  </tbody>\n",
              "</table>\n",
              "</div>"
            ],
            "text/plain": [
              "                     month  day  weekday  ...  evening  midnight  volume\n",
              "DateTime                                  ...                           \n",
              "2017-04-01 00:00:00      4    1        5  ...        0         1      10\n",
              "2017-04-01 01:00:00      4    1        5  ...        0         1      12\n",
              "2017-04-01 02:00:00      4    1        5  ...        0         0       5\n",
              "2017-04-01 03:00:00      4    1        5  ...        0         0       5\n",
              "2017-04-01 04:00:00      4    1        5  ...        0         0      17\n",
              "\n",
              "[5 rows x 15 columns]"
            ]
          },
          "metadata": {
            "tags": []
          },
          "execution_count": 30
        }
      ]
    },
    {
      "cell_type": "markdown",
      "metadata": {
        "id": "fLbUpvt2cAha"
      },
      "source": [
        "### Scaling and models"
      ]
    },
    {
      "cell_type": "code",
      "metadata": {
        "id": "eUrH_ITA5q2x"
      },
      "source": [
        "from pickle import dump,load"
      ],
      "execution_count": 43,
      "outputs": []
    },
    {
      "cell_type": "code",
      "metadata": {
        "id": "MEwSA99z6wT_"
      },
      "source": [
        "scaler = load(open('/univariatescaler.pkl', 'rb'))\n",
        "scaler1 = load(open('/multivariatescaler.pkl', 'rb'))"
      ],
      "execution_count": null,
      "outputs": []
    },
    {
      "cell_type": "code",
      "metadata": {
        "id": "LS7oxCs_cDgx"
      },
      "source": [
        "def split_sequence(sequence,n_steps):\n",
        "  X,y=list(),list()\n",
        "  for i in range(len(sequence)):\n",
        "    end_ix=i+n_steps\n",
        "    if end_ix>len(sequence)-1:\n",
        "      break\n",
        "    seq_x,seq_y=sequence[i:end_ix],sequence[end_ix]\n",
        "    X.append(seq_x)\n",
        "    y.append(seq_y)\n",
        "  return np.array(X),np.array(y)"
      ],
      "execution_count": null,
      "outputs": []
    },
    {
      "cell_type": "markdown",
      "metadata": {
        "id": "i2LDZV0DcEL_"
      },
      "source": [
        "## Forecasting"
      ]
    },
    {
      "cell_type": "markdown",
      "metadata": {
        "id": "KYvaxBHlcLxm"
      },
      "source": [
        "### Univariate"
      ]
    },
    {
      "cell_type": "code",
      "metadata": {
        "id": "tBQgXAKMJn5h"
      },
      "source": [
        "import tensorflow as tf\n",
        "lstm=tf.keras.models.load_model('/lstm168final.h5')\n",
        "hybrid=tf.keras.models.load_model('/combined2.h5')\n",
        "cnn=tf.keras.models.load_model('/cnn3.h5')"
      ],
      "execution_count": 45,
      "outputs": []
    },
    {
      "cell_type": "markdown",
      "metadata": {
        "id": "5qaJ96xqMsp1"
      },
      "source": [
        "**For ensemble forecasting we use the following code**"
      ]
    },
    {
      "cell_type": "code",
      "metadata": {
        "id": "IuressYTKESV"
      },
      "source": [
        "x_input=df1[10776:10944]#x_input will contain 168 values prior to the day chosen for forecasting\n",
        "#So if we want to forecast for 1st of july, in our dataframe 1st july starts from 10944 so we select 168 values before it hence we have started \n",
        "#from 10776. For each consecutive day we just add 24 to start index and ending index.\n",
        "x_input=scaler.transform(x_input)\n",
        "x_input=x_input.reshape(1,-1)\n",
        "temp_input=list(x_input)\n",
        "temp_input=temp_input[0].tolist()\n",
        "from numpy import array\n",
        "m1=hybrid\n",
        "lst_output=[]\n",
        "n_steps=2\n",
        "n_length=84\n",
        "n_st=168\n",
        "i=0\n",
        "while(i<24):#value of i is the hours of a day.For example day 1 has 0-24 hours,for day 2 24-48hours, for day 3 48-72hours and so on.\n",
        "    if(len(temp_input)>168):\n",
        "        x_input=np.array(temp_input[1:])\n",
        "        x_input=x_input.reshape(1,-1)\n",
        "        if m1==hybrid:  \n",
        "          x_input = x_input.reshape((1,n_steps,n_length,1))\n",
        "          yhat = hybrid.predict(x_input, verbose=0)\n",
        "          m1=cnn\n",
        "        elif m1==cnn:\n",
        "          x_input = x_input.reshape((1,n_st,1))\n",
        "          yhat = cnn.predict(x_input, verbose=0)\n",
        "          m1=lstm\n",
        "        elif m1==lstm:\n",
        "          x_input = x_input.reshape((1,n_st,1))\n",
        "          yhat = lstm.predict(x_input, verbose=0)\n",
        "          m1=hybrid\n",
        "        print(\"{} day output {}\".format(i,yhat))\n",
        "        temp_input.extend(yhat[0].tolist())\n",
        "        temp_input=temp_input[1:]\n",
        "        lst_output.extend(yhat.tolist())\n",
        "        i=i+1\n",
        "    else:\n",
        "        x_input = x_input.reshape((1,n_steps,n_length,1))\n",
        "        yhat = hybrid.predict(x_input, verbose=0)\n",
        "        print(\"{} day output {}\".format(i,yhat))\n",
        "        temp_input.extend(yhat[0].tolist())\n",
        "        lst_output.extend(yhat.tolist())\n",
        "        i=i+1\n",
        "print(lst_output)"
      ],
      "execution_count": null,
      "outputs": []
    },
    {
      "cell_type": "markdown",
      "metadata": {
        "id": "Q-AdDjSJMzbS"
      },
      "source": [
        "**For forecasting using only univariate lstm we use the following**"
      ]
    },
    {
      "cell_type": "code",
      "metadata": {
        "id": "L8nGEgyDMy8x"
      },
      "source": [
        "x_input=df1[10776:10944]#x_input will contain 168 values prior to the day chosen for forecasting\n",
        "#So if we want to forecast for 1st of july, in our dataframe 1st july starts from 10944 so we select 168 values before it hence we have started \n",
        "#from 10776. For each consecutive day we just add 24 to start index and ending index\n",
        "x_input=scaler.transform(x_input)\n",
        "x_input=x_input.reshape(1,-1)\n",
        "temp_input=list(x_input)\n",
        "temp_input=temp_input[0].tolist()\n",
        "from numpy import array\n",
        "lst_output=[]\n",
        "n_st=168\n",
        "i=0\n",
        "while(i<24):#value of i is the hours of a day.For example day 1 has 0-24 hours,for day 2 24-48hours, for day 3 48-72hours and so on.\n",
        "    if(len(temp_input)>168):\n",
        "        x_input=np.array(temp_input[1:])\n",
        "        x_input=x_input.reshape(1,-1)\n",
        "        x_input = x_input.reshape((1,n_st,1))\n",
        "        yhat = lstm.predict(x_input, verbose=0)\n",
        "        print(\"{} day output {}\".format(i,yhat))\n",
        "        temp_input.extend(yhat[0].tolist())\n",
        "        temp_input=temp_input[1:]\n",
        "        lst_output.extend(yhat.tolist())\n",
        "        i=i+1\n",
        "    else:\n",
        "        x_input = x_input.reshape((1,n_st,1))\n",
        "        yhat = lstm.predict(x_input, verbose=0)\n",
        "        print(\"{} day output {}\".format(i,yhat))\n",
        "        temp_input.extend(yhat[0].tolist())\n",
        "        lst_output.extend(yhat.tolist())\n",
        "        i=i+1\n",
        "print(lst_output)"
      ],
      "execution_count": null,
      "outputs": []
    },
    {
      "cell_type": "markdown",
      "metadata": {
        "id": "dEoi8fZIOC9i"
      },
      "source": [
        "**After forecasting using any of the above methods we will display the results**"
      ]
    },
    {
      "cell_type": "code",
      "metadata": {
        "id": "AlDgenGNNf3J"
      },
      "source": [
        "y_pred=np.array(lst_output)\n",
        "y_pred=scaler.inverse_transform(y_pred)\n",
        "\n",
        "July=pd.DataFrame()\n",
        "July['predicted']=y_pred.reshape(-1)\n"
      ],
      "execution_count": null,
      "outputs": []
    },
    {
      "cell_type": "code",
      "metadata": {
        "id": "HVePY9oeNx0o"
      },
      "source": [
        "actual=df[10944:10968]\n",
        "actual"
      ],
      "execution_count": null,
      "outputs": []
    },
    {
      "cell_type": "code",
      "metadata": {
        "id": "CS_3WxMnN5IZ"
      },
      "source": [
        "import plotly.graph_objects as go\n",
        "# Create random data with numpy\n",
        "fig = go.Figure()\n",
        "fig.add_trace(go.Scatter(x=actual.index, y=actual.volume,\n",
        "                    mode='lines',\n",
        "                    name='all_predicted'))\n",
        "fig.add_trace(go.Scatter(x=actual.index, y=July['predicted'],\n",
        "                    mode='lines',\n",
        "                    name='order_changed_predicted'))\n",
        "\n",
        "fig.update_xaxes(rangeslider_visible=True)\n",
        "fig.show()"
      ],
      "execution_count": null,
      "outputs": []
    },
    {
      "cell_type": "markdown",
      "metadata": {
        "id": "r6Uy5v2ocP1s"
      },
      "source": [
        "### Multivariate"
      ]
    },
    {
      "cell_type": "code",
      "metadata": {
        "id": "SWZS-vpfJZLZ"
      },
      "source": [
        "import tensorflow as tf\n",
        "model=tf.keras.models.load_model('/multilstmfinal.h5')"
      ],
      "execution_count": null,
      "outputs": []
    },
    {
      "cell_type": "code",
      "metadata": {
        "id": "lOgqKPuVcTk0"
      },
      "source": [
        "#For forecasting daywise for month of july\n",
        "test=df3.iloc[10776:]#This yor data which contains 168 values before 1st july.\n",
        "testsc=scaler1.transform(test)\n",
        "X_test,y_test=split_sequence(testsc,168)\n",
        "y=y_test[:,-1].reshape(-1,1)"
      ],
      "execution_count": null,
      "outputs": []
    },
    {
      "cell_type": "code",
      "metadata": {
        "id": "q9tlfcuU8FOS"
      },
      "source": [
        "x_input=df3[10776:10944] #x_input will contain 168 values prior to the day chosen for forecasting\n",
        "#So if we want to forecast for 1st of july, in our dataframe 1st july starts from 10944 so we select 168 values before it hence we have started \n",
        "#from 10776. For each consecutive day we just add 24 to start index and ending index  \n",
        "x_input=scaler1.transform(x_input)\n",
        "num_features=15\n",
        "x_input=x_input.reshape(1,168,num_features) \n",
        "temp_input=list(x_input)\n",
        "temp_input=temp_input[0].tolist()\n",
        "lst_output=[]\n",
        "n_steps=168\n",
        "i=0\n",
        "while(i<24):#value of i is the hours of a day.For example day 1 has 0-24 hours,for day 2 24-48hours, for day 3 48-72hours and so on.\n",
        "  if(len(temp_input)>168):\n",
        "    x_input=np.array(temp_input[1:])\n",
        "    x_input=x_input.reshape(1,-1)\n",
        "    x_input = x_input.reshape((1,n_steps,num_features))\n",
        "    yhat=model.predict(x_input,verbose=0)\n",
        "    print(\"{} day output {}\".format(i,yhat))\n",
        "    df_july1=pd.concat([pd.DataFrame(y_test[i:i+1,:-1]),pd.DataFrame(yhat)],axis=1)\n",
        "    df_july1=scaler1.inverse_transform(df_july1)\n",
        "    df_july1=pd.DataFrame(df_july1)\n",
        "    temp_input.extend(list(scaler1.transform(df_july1).reshape(1,1,num_features))[0].tolist())\n",
        "    temp_input=temp_input[1:]\n",
        "    lst_output.extend(yhat.tolist())\n",
        "    i=i+1\n",
        "  else:\n",
        "    x_input = x_input.reshape((1,n_steps,num_features))\n",
        "    yhat = model.predict(x_input, verbose=0)\n",
        "    #print(yhat[0])\n",
        "    df_july1=pd.concat([pd.DataFrame(y_test[i:i+1,:-1]),pd.DataFrame(yhat)],axis=1)\n",
        "    df_july1=scaler1.inverse_transform(df_july1)\n",
        "    df_july1=pd.DataFrame(df_july1)\n",
        "    temp_input.extend(list(scaler1.transform(df_july1).reshape(1,1,num_features))[0].tolist())\n",
        "    #temp_input.extend(yhat[0].tolist())\n",
        "    #print(len(temp_input))\n",
        "    lst_output.extend(yhat.tolist())\n",
        "    i=i+1\n",
        "print(lst_output)"
      ],
      "execution_count": null,
      "outputs": []
    },
    {
      "cell_type": "markdown",
      "metadata": {
        "id": "vpswxhneJGez"
      },
      "source": [
        "**After forecasting we will display them**"
      ]
    },
    {
      "cell_type": "code",
      "metadata": {
        "id": "qJ4BMDUMI0RK"
      },
      "source": [
        "y_pred=np.array(lst_output)\n",
        "df_july24=pd.concat([pd.DataFrame(y_test[i-24:i,:-1]),pd.DataFrame(y_pred)],axis=1)\n",
        "df_july24=scaler1.inverse_transform(df_july24)\n",
        "df_july24=pd.DataFrame(df_july24)#This data frame constains our forecasted values\n",
        "\n",
        "actual=pd.concat([pd.DataFrame(y_test[:,:-1]),pd.DataFrame(y)],axis=1)\n",
        "actual=scaler1.inverse_transform(actual)\n",
        "actual=pd.DataFrame(actual)#This contains the actual values for the same day\n",
        "import plotly.graph_objects as go\n",
        "fig = go.Figure()\n",
        "fig.add_trace(go.Scatter(x=actual.index, y=actual[14][i-24:i],#use the same value that is set for i\n",
        "                    mode='lines',\n",
        "                    name='actual'))\n",
        "fig.add_trace(go.Scatter(x=actual.index, y=df_july24[14],\n",
        "                    mode='lines',\n",
        "                    name='predicted'))\n",
        "fig.update_xaxes(rangeslider_visible=True)\n",
        "fig.show()"
      ],
      "execution_count": null,
      "outputs": []
    },
    {
      "cell_type": "markdown",
      "metadata": {
        "id": "Djk4Pvb0OeHN"
      },
      "source": [
        "### Regression"
      ]
    },
    {
      "cell_type": "markdown",
      "metadata": {
        "id": "im-pplZBO4dn"
      },
      "source": [
        "**Even for regression we will use the same features that were used for multivariate lstm**"
      ]
    },
    {
      "cell_type": "code",
      "metadata": {
        "id": "NnQRdgf6OmwM",
        "outputId": "eaf92ed6-1bcd-4846-f66d-4d38780034d0",
        "colab": {
          "base_uri": "https://localhost:8080/",
          "height": 225
        }
      },
      "source": [
        "df4=pd.read_csv('/presentationfinal.csv')\n",
        "df4=df4.set_index('DateTime')\n",
        "df4.head()"
      ],
      "execution_count": 47,
      "outputs": [
        {
          "output_type": "execute_result",
          "data": {
            "text/html": [
              "<div>\n",
              "<style scoped>\n",
              "    .dataframe tbody tr th:only-of-type {\n",
              "        vertical-align: middle;\n",
              "    }\n",
              "\n",
              "    .dataframe tbody tr th {\n",
              "        vertical-align: top;\n",
              "    }\n",
              "\n",
              "    .dataframe thead th {\n",
              "        text-align: right;\n",
              "    }\n",
              "</style>\n",
              "<table border=\"1\" class=\"dataframe\">\n",
              "  <thead>\n",
              "    <tr style=\"text-align: right;\">\n",
              "      <th></th>\n",
              "      <th>month</th>\n",
              "      <th>day</th>\n",
              "      <th>weekday</th>\n",
              "      <th>start_of_month</th>\n",
              "      <th>end_of_month</th>\n",
              "      <th>is_weekend</th>\n",
              "      <th>holidays</th>\n",
              "      <th>hour</th>\n",
              "      <th>dawn</th>\n",
              "      <th>morning</th>\n",
              "      <th>noon</th>\n",
              "      <th>afternoon</th>\n",
              "      <th>evening</th>\n",
              "      <th>midnight</th>\n",
              "      <th>volume</th>\n",
              "    </tr>\n",
              "    <tr>\n",
              "      <th>DateTime</th>\n",
              "      <th></th>\n",
              "      <th></th>\n",
              "      <th></th>\n",
              "      <th></th>\n",
              "      <th></th>\n",
              "      <th></th>\n",
              "      <th></th>\n",
              "      <th></th>\n",
              "      <th></th>\n",
              "      <th></th>\n",
              "      <th></th>\n",
              "      <th></th>\n",
              "      <th></th>\n",
              "      <th></th>\n",
              "      <th></th>\n",
              "    </tr>\n",
              "  </thead>\n",
              "  <tbody>\n",
              "    <tr>\n",
              "      <th>2017-04-01 00:00:00</th>\n",
              "      <td>4</td>\n",
              "      <td>1</td>\n",
              "      <td>5</td>\n",
              "      <td>1</td>\n",
              "      <td>0</td>\n",
              "      <td>1</td>\n",
              "      <td>0</td>\n",
              "      <td>0</td>\n",
              "      <td>0</td>\n",
              "      <td>0</td>\n",
              "      <td>0</td>\n",
              "      <td>0</td>\n",
              "      <td>0</td>\n",
              "      <td>1</td>\n",
              "      <td>10</td>\n",
              "    </tr>\n",
              "    <tr>\n",
              "      <th>2017-04-01 01:00:00</th>\n",
              "      <td>4</td>\n",
              "      <td>1</td>\n",
              "      <td>5</td>\n",
              "      <td>1</td>\n",
              "      <td>0</td>\n",
              "      <td>1</td>\n",
              "      <td>0</td>\n",
              "      <td>1</td>\n",
              "      <td>0</td>\n",
              "      <td>0</td>\n",
              "      <td>0</td>\n",
              "      <td>0</td>\n",
              "      <td>0</td>\n",
              "      <td>1</td>\n",
              "      <td>12</td>\n",
              "    </tr>\n",
              "    <tr>\n",
              "      <th>2017-04-01 02:00:00</th>\n",
              "      <td>4</td>\n",
              "      <td>1</td>\n",
              "      <td>5</td>\n",
              "      <td>1</td>\n",
              "      <td>0</td>\n",
              "      <td>1</td>\n",
              "      <td>0</td>\n",
              "      <td>2</td>\n",
              "      <td>1</td>\n",
              "      <td>0</td>\n",
              "      <td>0</td>\n",
              "      <td>0</td>\n",
              "      <td>0</td>\n",
              "      <td>0</td>\n",
              "      <td>5</td>\n",
              "    </tr>\n",
              "    <tr>\n",
              "      <th>2017-04-01 03:00:00</th>\n",
              "      <td>4</td>\n",
              "      <td>1</td>\n",
              "      <td>5</td>\n",
              "      <td>1</td>\n",
              "      <td>0</td>\n",
              "      <td>1</td>\n",
              "      <td>0</td>\n",
              "      <td>3</td>\n",
              "      <td>1</td>\n",
              "      <td>0</td>\n",
              "      <td>0</td>\n",
              "      <td>0</td>\n",
              "      <td>0</td>\n",
              "      <td>0</td>\n",
              "      <td>5</td>\n",
              "    </tr>\n",
              "    <tr>\n",
              "      <th>2017-04-01 04:00:00</th>\n",
              "      <td>4</td>\n",
              "      <td>1</td>\n",
              "      <td>5</td>\n",
              "      <td>1</td>\n",
              "      <td>0</td>\n",
              "      <td>1</td>\n",
              "      <td>0</td>\n",
              "      <td>4</td>\n",
              "      <td>1</td>\n",
              "      <td>0</td>\n",
              "      <td>0</td>\n",
              "      <td>0</td>\n",
              "      <td>0</td>\n",
              "      <td>0</td>\n",
              "      <td>17</td>\n",
              "    </tr>\n",
              "  </tbody>\n",
              "</table>\n",
              "</div>"
            ],
            "text/plain": [
              "                     month  day  weekday  ...  evening  midnight  volume\n",
              "DateTime                                  ...                           \n",
              "2017-04-01 00:00:00      4    1        5  ...        0         1      10\n",
              "2017-04-01 01:00:00      4    1        5  ...        0         1      12\n",
              "2017-04-01 02:00:00      4    1        5  ...        0         0       5\n",
              "2017-04-01 03:00:00      4    1        5  ...        0         0       5\n",
              "2017-04-01 04:00:00      4    1        5  ...        0         0      17\n",
              "\n",
              "[5 rows x 15 columns]"
            ]
          },
          "metadata": {
            "tags": []
          },
          "execution_count": 47
        }
      ]
    },
    {
      "cell_type": "code",
      "metadata": {
        "id": "kukiENe9PPzs"
      },
      "source": [
        "X=df4.iloc[:,:-1]\n",
        "y=df4.iloc[:,-1]"
      ],
      "execution_count": 48,
      "outputs": []
    },
    {
      "cell_type": "code",
      "metadata": {
        "id": "4PRJ-4vRRF-S"
      },
      "source": [
        "from sklearn.model_selection import train_test_split"
      ],
      "execution_count": 49,
      "outputs": []
    },
    {
      "cell_type": "code",
      "metadata": {
        "id": "ONXPOj0rRIVs"
      },
      "source": [
        "X_train, X_test, y_train, y_test = train_test_split(X, y, test_size=0.1, shuffle = False)\n",
        "#here we split the data with a ratio of 80:20 i.e 80% in training and 20% in test "
      ],
      "execution_count": 50,
      "outputs": []
    },
    {
      "cell_type": "code",
      "metadata": {
        "id": "8wPdTzkIRXx2"
      },
      "source": [
        "from sklearn.preprocessing import MinMaxScaler\n",
        "scaler3=MinMaxScaler()\n",
        "X_train=scaler3.fit_transform(X_train)\n",
        "X_test=scaler3.transform(X_test)"
      ],
      "execution_count": 51,
      "outputs": []
    },
    {
      "cell_type": "code",
      "metadata": {
        "id": "2nLqvJ5EVj2L"
      },
      "source": [
        "dump(scaler3, open('regressionscaler.pkl', 'wb'))"
      ],
      "execution_count": 60,
      "outputs": []
    },
    {
      "cell_type": "code",
      "metadata": {
        "id": "YsO-KTKZSTPt",
        "outputId": "da0bb7d1-b417-47ba-a875-194b6604893e",
        "colab": {
          "base_uri": "https://localhost:8080/"
        }
      },
      "source": [
        "from sklearn import datasets, ensemble\n",
        "# define the model parameters\n",
        "params = {'n_estimators': 500,\n",
        "          'max_depth': 4,\n",
        "          'min_samples_split': 5,\n",
        "          'learning_rate': 0.01,\n",
        "          'loss': 'ls'}\n",
        "# instantiate and train the model\n",
        "gb_reg = ensemble.GradientBoostingRegressor(**params)\n",
        "gb_reg.fit(X_train, y_train)"
      ],
      "execution_count": 52,
      "outputs": [
        {
          "output_type": "execute_result",
          "data": {
            "text/plain": [
              "GradientBoostingRegressor(alpha=0.9, ccp_alpha=0.0, criterion='friedman_mse',\n",
              "                          init=None, learning_rate=0.01, loss='ls', max_depth=4,\n",
              "                          max_features=None, max_leaf_nodes=None,\n",
              "                          min_impurity_decrease=0.0, min_impurity_split=None,\n",
              "                          min_samples_leaf=1, min_samples_split=5,\n",
              "                          min_weight_fraction_leaf=0.0, n_estimators=500,\n",
              "                          n_iter_no_change=None, presort='deprecated',\n",
              "                          random_state=None, subsample=1.0, tol=0.0001,\n",
              "                          validation_fraction=0.1, verbose=0, warm_start=False)"
            ]
          },
          "metadata": {
            "tags": []
          },
          "execution_count": 52
        }
      ]
    },
    {
      "cell_type": "code",
      "metadata": {
        "id": "0Qm0MkRHSWkf",
        "outputId": "a31a5312-8d67-47c3-9e95-aff4cb8d3574",
        "colab": {
          "base_uri": "https://localhost:8080/"
        }
      },
      "source": [
        "len(X_test)"
      ],
      "execution_count": 53,
      "outputs": [
        {
          "output_type": "execute_result",
          "data": {
            "text/plain": [
              "1169"
            ]
          },
          "metadata": {
            "tags": []
          },
          "execution_count": 53
        }
      ]
    },
    {
      "cell_type": "markdown",
      "metadata": {
        "id": "GLqJBFH7T0ND"
      },
      "source": [
        "**We have 1169 values in our test set of which 744 are from july.\n",
        "So 425 values are from june**"
      ]
    },
    {
      "cell_type": "code",
      "metadata": {
        "id": "xLrhom3eUyg5",
        "outputId": "e3b7b9f6-600a-4548-e299-7b3b3aba121e",
        "colab": {
          "base_uri": "https://localhost:8080/"
        }
      },
      "source": [
        "df4.index.astype(str).tolist()[-len(X_test):][0+i:24+i]"
      ],
      "execution_count": 59,
      "outputs": [
        {
          "output_type": "execute_result",
          "data": {
            "text/plain": [
              "['2018-07-01 00:00:00',\n",
              " '2018-07-01 01:00:00',\n",
              " '2018-07-01 02:00:00',\n",
              " '2018-07-01 03:00:00',\n",
              " '2018-07-01 04:00:00',\n",
              " '2018-07-01 05:00:00',\n",
              " '2018-07-01 06:00:00',\n",
              " '2018-07-01 07:00:00',\n",
              " '2018-07-01 08:00:00',\n",
              " '2018-07-01 09:00:00',\n",
              " '2018-07-01 10:00:00',\n",
              " '2018-07-01 11:00:00',\n",
              " '2018-07-01 12:00:00',\n",
              " '2018-07-01 13:00:00',\n",
              " '2018-07-01 14:00:00',\n",
              " '2018-07-01 15:00:00',\n",
              " '2018-07-01 16:00:00',\n",
              " '2018-07-01 17:00:00',\n",
              " '2018-07-01 18:00:00',\n",
              " '2018-07-01 19:00:00',\n",
              " '2018-07-01 20:00:00',\n",
              " '2018-07-01 21:00:00',\n",
              " '2018-07-01 22:00:00',\n",
              " '2018-07-01 23:00:00']"
            ]
          },
          "metadata": {
            "tags": []
          },
          "execution_count": 59
        }
      ]
    },
    {
      "cell_type": "code",
      "metadata": {
        "id": "wLVI5mRGSiFp"
      },
      "source": [
        "i=425\n",
        "julyregression=pd.DataFrame()\n",
        "julyregression['predicted']=gb_reg.predict(X_test)[0+i:24+i]#gb_reg is the gradient boost regressor which is our machine learning model\n",
        "#0 and 24 are the hours of the day.\n",
        "#If we want to predict for day 2 the we would write 24 and 48 and so on. "
      ],
      "execution_count": 56,
      "outputs": []
    },
    {
      "cell_type": "code",
      "metadata": {
        "id": "oxtQDA6BWJUf"
      },
      "source": [
        "dump(gb_reg, open('regressionmodel.pkl', 'wb'))"
      ],
      "execution_count": 61,
      "outputs": []
    },
    {
      "cell_type": "code",
      "metadata": {
        "id": "XjMODmjdWUbj"
      },
      "source": [
        "model = load(open('/regressionmodel.pkl', 'rb'))"
      ],
      "execution_count": null,
      "outputs": []
    }
  ]
}